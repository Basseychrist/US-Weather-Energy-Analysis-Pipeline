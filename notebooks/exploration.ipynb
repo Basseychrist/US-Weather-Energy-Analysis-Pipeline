{
 "cells": [
  {
   "cell_type": "markdown",
   "id": "0ba215d8",
   "metadata": {},
   "source": [
    "# US Weather + Energy Analysis Pipeline Exploration\n",
    "\n",
    "This notebook demonstrates how to load, explore, and visualize the processed weather and energy data for the app.\n",
    "\n",
    "You will:\n",
    "\n",
    "- Load the processed CSV data\n",
    "- Inspect the data structure\n",
    "- Visualize temperature and energy demand trends\n",
    "- Analyze correlation between temperature and energy usage\n",
    "- Create a usage patterns heatmap"
   ]
  },
  {
   "cell_type": "code",
   "execution_count": null,
   "id": "55b755ef",
   "metadata": {},
   "outputs": [],
   "source": [
    "# Import required libraries\n",
    "import pandas as pd\n",
    "import numpy as np\n",
    "import matplotlib.pyplot as plt\n",
    "import seaborn as sns"
   ]
  },
  {
   "cell_type": "markdown",
   "id": "06dc7a2e",
   "metadata": {},
   "source": [
    "## Load the processed weather and energy data"
   ]
  },
  {
   "cell_type": "code",
   "execution_count": null,
   "id": "14ace139",
   "metadata": {},
   "outputs": [],
   "source": [
    "# Load the processed CSV file\n",
    "df = pd.read_csv('../data/processed/weather_energy_data.csv', parse_dates=['date'])\n",
    "df.head()"
   ]
  },
  {
   "cell_type": "markdown",
   "id": "1731d666",
   "metadata": {},
   "source": [
    "## Inspect the data structure"
   ]
  },
  {
   "cell_type": "code",
   "execution_count": null,
   "id": "787b9daa",
   "metadata": {},
   "outputs": [],
   "source": [
    "# Show basic info and missing values\n",
    "df.info()\n",
    "df.isnull().sum()"
   ]
  },
  {
   "cell_type": "markdown",
   "id": "93b4f020",
   "metadata": {},
   "source": [
    "## Visualize temperature and energy demand trends"
   ]
  },
  {
   "cell_type": "code",
   "execution_count": null,
   "id": "8e12362a",
   "metadata": {},
   "outputs": [],
   "source": [
    "# Plot temperature and energy demand over time for a selected city\n",
    "city = 'New York'\n",
    "city_df = df[df['city'] == city]\n",
    "\n",
    "fig, ax1 = plt.subplots(figsize=(12, 5))\n",
    "ax1.plot(city_df['date'], city_df['temp_avg_f'], color='tab:red', label='Avg Temp (°F)')\n",
    "ax1.set_ylabel('Avg Temp (°F)', color='tab:red')\n",
    "ax2 = ax1.twinx()\n",
    "ax2.plot(city_df['date'], city_df['energy_demand_gwh'], color='tab:blue', label='Energy Demand (GWh)')\n",
    "ax2.set_ylabel('Energy Demand (GWh)', color='tab:blue')\n",
    "plt.title(f'Temperature and Energy Demand Trends in {city}')\n",
    "plt.show()"
   ]
  },
  {
   "cell_type": "markdown",
   "id": "d2f3baae",
   "metadata": {},
   "source": [
    "## Correlation Analysis: Temperature vs. Energy Usage"
   ]
  },
  {
   "cell_type": "code",
   "execution_count": null,
   "id": "6ecf86ca",
   "metadata": {},
   "outputs": [],
   "source": [
    "# Scatter plot and correlation calculation\n",
    "corr = city_df[['temp_avg_f', 'energy_demand_gwh']].corr().iloc[0,1]\n",
    "plt.figure(figsize=(8,5))\n",
    "sns.scatterplot(x='temp_avg_f', y='energy_demand_gwh', data=city_df)\n",
    "plt.title(f'Temperature vs. Energy Usage in {city} (corr={corr:.2f})')\n",
    "plt.xlabel('Avg Temp (°F)')\n",
    "plt.ylabel('Energy Demand (GWh)')\n",
    "plt.show()"
   ]
  },
  {
   "cell_type": "markdown",
   "id": "e6a4f2ab",
   "metadata": {},
   "source": [
    "## Usage Patterns Heatmap\n",
    "\n",
    "This heatmap shows average energy demand by temperature range and day of week."
   ]
  },
  {
   "cell_type": "code",
   "execution_count": null,
   "id": "c0dc7c65",
   "metadata": {},
   "outputs": [],
   "source": [
    "# Prepare bins and day of week\n",
    "bins = [0, 50, 60, 70, 80, 90, np.inf]\n",
    "labels = ['<50°F', '50-60°F', '60-70°F', '70-80°F', '80-90°F', '>90°F']\n",
    "city_df['temp_range'] = pd.cut(city_df['temp_avg_f'], bins=bins, labels=labels, right=False)\n",
    "city_df['day_of_week'] = city_df['date'].dt.day_name()\n",
    "\n",
    "# Pivot for heatmap\n",
    "heatmap_data = city_df.groupby(['temp_range', 'day_of_week'])['energy_demand_gwh'].mean().unstack()\n",
    "day_order = ['Monday', 'Tuesday', 'Wednesday', 'Thursday', 'Friday', 'Saturday', 'Sunday']\n",
    "heatmap_data = heatmap_data.reindex(columns=day_order)\n",
    "\n",
    "plt.figure(figsize=(10,6))\n",
    "sns.heatmap(heatmap_data, annot=True, fmt='.0f', cmap='coolwarm')\n",
    "plt.title(f'Usage Patterns Heatmap for {city}')\n",
    "plt.ylabel('Temperature Range')\n",
    "plt.xlabel('Day of Week')\n",
    "plt.show()"
   ]
  },
  {
   "cell_type": "markdown",
   "id": "ae0cf643",
   "metadata": {},
   "source": [
    "## Notes & Business Rules\n",
    "\n",
    "- Weather data is converted from Celsius to Fahrenheit in the pipeline.\n",
    "- Data quality checks are performed before analysis.\n",
    "- The dashboard warns if the selected date range has less than 20°F temperature variation.\n",
    "- Heatmap bins are designed to show how energy demand changes with temperature and day of week."
   ]
  }
 ],
 "metadata": {
  "language_info": {
   "name": "python"
  }
 },
 "nbformat": 4,
 "nbformat_minor": 5
}
